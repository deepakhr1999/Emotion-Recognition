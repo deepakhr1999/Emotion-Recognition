{
 "cells": [
  {
   "cell_type": "code",
   "execution_count": 6,
   "metadata": {},
   "outputs": [],
   "source": [
    "import os\n",
    "import numpy as np\n",
    "from PIL import Image\n",
    "import matplotlib.pyplot as plt\n",
    "from os.path import join\n",
    "import pandas as pd\n",
    "import cv2\n",
    "import random"
   ]
  },
  {
   "cell_type": "code",
   "execution_count": 7,
   "metadata": {},
   "outputs": [
    {
     "data": {
      "text/html": [
       "<div>\n",
       "<style scoped>\n",
       "    .dataframe tbody tr th:only-of-type {\n",
       "        vertical-align: middle;\n",
       "    }\n",
       "\n",
       "    .dataframe tbody tr th {\n",
       "        vertical-align: top;\n",
       "    }\n",
       "\n",
       "    .dataframe thead th {\n",
       "        text-align: right;\n",
       "    }\n",
       "</style>\n",
       "<table border=\"1\" class=\"dataframe\">\n",
       "  <thead>\n",
       "    <tr style=\"text-align: right;\">\n",
       "      <th></th>\n",
       "      <th>neutral</th>\n",
       "      <th>peak</th>\n",
       "      <th>label</th>\n",
       "      <th>lm_neutral</th>\n",
       "      <th>lm_peak</th>\n",
       "    </tr>\n",
       "  </thead>\n",
       "  <tbody>\n",
       "    <tr>\n",
       "      <th>0</th>\n",
       "      <td>../CK+/cohn-kanade-images/S063/002/S063_002_00...</td>\n",
       "      <td>../CK+/cohn-kanade-images/S063/002/S063_002_00...</td>\n",
       "      <td>../CK+/Emotion/S063/002/S063_002_00000023_emot...</td>\n",
       "      <td>../CK+/Landmarks/S063/002/S063_002_00000001_la...</td>\n",
       "      <td>../CK+/Landmarks/S063/002/S063_002_00000023_la...</td>\n",
       "    </tr>\n",
       "    <tr>\n",
       "      <th>1</th>\n",
       "      <td>../CK+/cohn-kanade-images/S063/001/S063_001_00...</td>\n",
       "      <td>../CK+/cohn-kanade-images/S063/001/S063_001_00...</td>\n",
       "      <td>../CK+/Emotion/S063/001/S063_001_00000013_emot...</td>\n",
       "      <td>../CK+/Landmarks/S063/001/S063_001_00000001_la...</td>\n",
       "      <td>../CK+/Landmarks/S063/001/S063_001_00000013_la...</td>\n",
       "    </tr>\n",
       "    <tr>\n",
       "      <th>2</th>\n",
       "      <td>../CK+/cohn-kanade-images/S071/004/S071_004_00...</td>\n",
       "      <td>../CK+/cohn-kanade-images/S071/004/S071_004_00...</td>\n",
       "      <td>../CK+/Emotion/S071/004/S071_004_00000028_emot...</td>\n",
       "      <td>../CK+/Landmarks/S071/004/S071_004_00000001_la...</td>\n",
       "      <td>../CK+/Landmarks/S071/004/S071_004_00000028_la...</td>\n",
       "    </tr>\n",
       "    <tr>\n",
       "      <th>3</th>\n",
       "      <td>../CK+/cohn-kanade-images/S071/002/S071_002_00...</td>\n",
       "      <td>../CK+/cohn-kanade-images/S071/002/S071_002_00...</td>\n",
       "      <td>../CK+/Emotion/S071/002/S071_002_00000020_emot...</td>\n",
       "      <td>../CK+/Landmarks/S071/002/S071_002_00000001_la...</td>\n",
       "      <td>../CK+/Landmarks/S071/002/S071_002_00000020_la...</td>\n",
       "    </tr>\n",
       "    <tr>\n",
       "      <th>4</th>\n",
       "      <td>../CK+/cohn-kanade-images/S071/006/S071_006_00...</td>\n",
       "      <td>../CK+/cohn-kanade-images/S071/006/S071_006_00...</td>\n",
       "      <td>../CK+/Emotion/S071/006/S071_006_00000014_emot...</td>\n",
       "      <td>../CK+/Landmarks/S071/006/S071_006_00000001_la...</td>\n",
       "      <td>../CK+/Landmarks/S071/006/S071_006_00000014_la...</td>\n",
       "    </tr>\n",
       "  </tbody>\n",
       "</table>\n",
       "</div>"
      ],
      "text/plain": [
       "                                             neutral  \\\n",
       "0  ../CK+/cohn-kanade-images/S063/002/S063_002_00...   \n",
       "1  ../CK+/cohn-kanade-images/S063/001/S063_001_00...   \n",
       "2  ../CK+/cohn-kanade-images/S071/004/S071_004_00...   \n",
       "3  ../CK+/cohn-kanade-images/S071/002/S071_002_00...   \n",
       "4  ../CK+/cohn-kanade-images/S071/006/S071_006_00...   \n",
       "\n",
       "                                                peak  \\\n",
       "0  ../CK+/cohn-kanade-images/S063/002/S063_002_00...   \n",
       "1  ../CK+/cohn-kanade-images/S063/001/S063_001_00...   \n",
       "2  ../CK+/cohn-kanade-images/S071/004/S071_004_00...   \n",
       "3  ../CK+/cohn-kanade-images/S071/002/S071_002_00...   \n",
       "4  ../CK+/cohn-kanade-images/S071/006/S071_006_00...   \n",
       "\n",
       "                                               label  \\\n",
       "0  ../CK+/Emotion/S063/002/S063_002_00000023_emot...   \n",
       "1  ../CK+/Emotion/S063/001/S063_001_00000013_emot...   \n",
       "2  ../CK+/Emotion/S071/004/S071_004_00000028_emot...   \n",
       "3  ../CK+/Emotion/S071/002/S071_002_00000020_emot...   \n",
       "4  ../CK+/Emotion/S071/006/S071_006_00000014_emot...   \n",
       "\n",
       "                                          lm_neutral  \\\n",
       "0  ../CK+/Landmarks/S063/002/S063_002_00000001_la...   \n",
       "1  ../CK+/Landmarks/S063/001/S063_001_00000001_la...   \n",
       "2  ../CK+/Landmarks/S071/004/S071_004_00000001_la...   \n",
       "3  ../CK+/Landmarks/S071/002/S071_002_00000001_la...   \n",
       "4  ../CK+/Landmarks/S071/006/S071_006_00000001_la...   \n",
       "\n",
       "                                             lm_peak  \n",
       "0  ../CK+/Landmarks/S063/002/S063_002_00000023_la...  \n",
       "1  ../CK+/Landmarks/S063/001/S063_001_00000013_la...  \n",
       "2  ../CK+/Landmarks/S071/004/S071_004_00000028_la...  \n",
       "3  ../CK+/Landmarks/S071/002/S071_002_00000020_la...  \n",
       "4  ../CK+/Landmarks/S071/006/S071_006_00000014_la...  "
      ]
     },
     "execution_count": 7,
     "metadata": {},
     "output_type": "execute_result"
    }
   ],
   "source": [
    "train_df = pd.read_csv('CKpaths.csv')\n",
    "m = len(train_df)\n",
    "train_df.head()"
   ]
  },
  {
   "cell_type": "code",
   "execution_count": 10,
   "metadata": {},
   "outputs": [
    {
     "ename": "OSError",
     "evalue": "[Errno 9] Bad file descriptor",
     "output_type": "error",
     "traceback": [
      "\u001b[0;31m---------------------------------------------------------------------------\u001b[0m",
      "\u001b[0;31mOSError\u001b[0m                                   Traceback (most recent call last)",
      "\u001b[0;32m<ipython-input-10-c321842628b7>\u001b[0m in \u001b[0;36m<module>\u001b[0;34m\u001b[0m\n\u001b[1;32m      2\u001b[0m     \u001b[0;32mwith\u001b[0m \u001b[0mopen\u001b[0m\u001b[0;34m(\u001b[0m\u001b[0mlabelpath\u001b[0m\u001b[0;34m,\u001b[0m \u001b[0;34m'r'\u001b[0m\u001b[0;34m)\u001b[0m \u001b[0;32mas\u001b[0m \u001b[0mfile\u001b[0m\u001b[0;34m:\u001b[0m\u001b[0;34m\u001b[0m\u001b[0;34m\u001b[0m\u001b[0m\n\u001b[1;32m      3\u001b[0m         \u001b[0;32mreturn\u001b[0m \u001b[0;34m(\u001b[0m\u001b[0mint\u001b[0m\u001b[0;34m(\u001b[0m\u001b[0mfloat\u001b[0m\u001b[0;34m(\u001b[0m\u001b[0mfile\u001b[0m\u001b[0;34m.\u001b[0m\u001b[0mread\u001b[0m\u001b[0;34m(\u001b[0m\u001b[0;34m)\u001b[0m\u001b[0;34m.\u001b[0m\u001b[0mrstrip\u001b[0m\u001b[0;34m(\u001b[0m\u001b[0;34m)\u001b[0m\u001b[0;34m.\u001b[0m\u001b[0msplit\u001b[0m\u001b[0;34m(\u001b[0m\u001b[0;34m)\u001b[0m\u001b[0;34m[\u001b[0m\u001b[0;36m0\u001b[0m\u001b[0;34m]\u001b[0m\u001b[0;34m)\u001b[0m\u001b[0;34m)\u001b[0m\u001b[0;34m)\u001b[0m\u001b[0;34m\u001b[0m\u001b[0;34m\u001b[0m\u001b[0m\n\u001b[0;32m----> 4\u001b[0;31m \u001b[0mtrain_df\u001b[0m\u001b[0;34m.\u001b[0m\u001b[0mlabel\u001b[0m \u001b[0;34m=\u001b[0m \u001b[0mlist\u001b[0m\u001b[0;34m(\u001b[0m\u001b[0mmap\u001b[0m\u001b[0;34m(\u001b[0m\u001b[0mlabelFromFile\u001b[0m\u001b[0;34m,\u001b[0m \u001b[0mtrain_df\u001b[0m\u001b[0;34m.\u001b[0m\u001b[0mlabel\u001b[0m\u001b[0;34m)\u001b[0m\u001b[0;34m)\u001b[0m\u001b[0;34m\u001b[0m\u001b[0;34m\u001b[0m\u001b[0m\n\u001b[0m\u001b[1;32m      5\u001b[0m \u001b[0mprint\u001b[0m\u001b[0;34m(\u001b[0m\u001b[0mlist\u001b[0m\u001b[0;34m(\u001b[0m\u001b[0mtrain_df\u001b[0m\u001b[0;34m[\u001b[0m\u001b[0;34m[\u001b[0m\u001b[0;34m'label'\u001b[0m\u001b[0;34m]\u001b[0m\u001b[0;34m]\u001b[0m\u001b[0;34m)\u001b[0m\u001b[0;34m)\u001b[0m\u001b[0;34m\u001b[0m\u001b[0;34m\u001b[0m\u001b[0m\n",
      "\u001b[0;32m<ipython-input-10-c321842628b7>\u001b[0m in \u001b[0;36mlabelFromFile\u001b[0;34m(labelpath)\u001b[0m\n\u001b[1;32m      1\u001b[0m \u001b[0;32mdef\u001b[0m \u001b[0mlabelFromFile\u001b[0m\u001b[0;34m(\u001b[0m\u001b[0mlabelpath\u001b[0m\u001b[0;34m)\u001b[0m\u001b[0;34m:\u001b[0m\u001b[0;34m\u001b[0m\u001b[0;34m\u001b[0m\u001b[0m\n\u001b[0;32m----> 2\u001b[0;31m     \u001b[0;32mwith\u001b[0m \u001b[0mopen\u001b[0m\u001b[0;34m(\u001b[0m\u001b[0mlabelpath\u001b[0m\u001b[0;34m,\u001b[0m \u001b[0;34m'r'\u001b[0m\u001b[0;34m)\u001b[0m \u001b[0;32mas\u001b[0m \u001b[0mfile\u001b[0m\u001b[0;34m:\u001b[0m\u001b[0;34m\u001b[0m\u001b[0;34m\u001b[0m\u001b[0m\n\u001b[0m\u001b[1;32m      3\u001b[0m         \u001b[0;32mreturn\u001b[0m \u001b[0;34m(\u001b[0m\u001b[0mint\u001b[0m\u001b[0;34m(\u001b[0m\u001b[0mfloat\u001b[0m\u001b[0;34m(\u001b[0m\u001b[0mfile\u001b[0m\u001b[0;34m.\u001b[0m\u001b[0mread\u001b[0m\u001b[0;34m(\u001b[0m\u001b[0;34m)\u001b[0m\u001b[0;34m.\u001b[0m\u001b[0mrstrip\u001b[0m\u001b[0;34m(\u001b[0m\u001b[0;34m)\u001b[0m\u001b[0;34m.\u001b[0m\u001b[0msplit\u001b[0m\u001b[0;34m(\u001b[0m\u001b[0;34m)\u001b[0m\u001b[0;34m[\u001b[0m\u001b[0;36m0\u001b[0m\u001b[0;34m]\u001b[0m\u001b[0;34m)\u001b[0m\u001b[0;34m)\u001b[0m\u001b[0;34m)\u001b[0m\u001b[0;34m\u001b[0m\u001b[0;34m\u001b[0m\u001b[0m\n\u001b[1;32m      4\u001b[0m \u001b[0mtrain_df\u001b[0m\u001b[0;34m.\u001b[0m\u001b[0mlabel\u001b[0m \u001b[0;34m=\u001b[0m \u001b[0mlist\u001b[0m\u001b[0;34m(\u001b[0m\u001b[0mmap\u001b[0m\u001b[0;34m(\u001b[0m\u001b[0mlabelFromFile\u001b[0m\u001b[0;34m,\u001b[0m \u001b[0mtrain_df\u001b[0m\u001b[0;34m.\u001b[0m\u001b[0mlabel\u001b[0m\u001b[0;34m)\u001b[0m\u001b[0;34m)\u001b[0m\u001b[0;34m\u001b[0m\u001b[0;34m\u001b[0m\u001b[0m\n\u001b[1;32m      5\u001b[0m \u001b[0mprint\u001b[0m\u001b[0;34m(\u001b[0m\u001b[0mlist\u001b[0m\u001b[0;34m(\u001b[0m\u001b[0mtrain_df\u001b[0m\u001b[0;34m[\u001b[0m\u001b[0;34m[\u001b[0m\u001b[0;34m'label'\u001b[0m\u001b[0;34m]\u001b[0m\u001b[0;34m]\u001b[0m\u001b[0;34m)\u001b[0m\u001b[0;34m)\u001b[0m\u001b[0;34m\u001b[0m\u001b[0;34m\u001b[0m\u001b[0m\n",
      "\u001b[0;31mOSError\u001b[0m: [Errno 9] Bad file descriptor"
     ]
    }
   ],
   "source": [
    "def labelFromFile(labelpath):\n",
    "    with open(labelpath, 'r') as file:\n",
    "        return (int(float(file.read().rstrip().split()[0])))\n",
    "train_df.label = list(map(labelFromFile, train_df.label))\n",
    "print(list(train_df[['label']]))"
   ]
  },
  {
   "cell_type": "code",
   "execution_count": 4,
   "metadata": {},
   "outputs": [],
   "source": [
    "def landmarksFromFile(lmpath):\n",
    "    with open(lmpath, 'r') as file:\n",
    "        # read and store landmarks\n",
    "        L = file.read().split()\n",
    "        L = list(map(float, L))\n",
    "        \n",
    "        # separate X and Y\n",
    "        X, Y = np.empty(68), np.empty(68)\n",
    "        for i, num in enumerate(L):\n",
    "            if i%2==0:\n",
    "                X[i//2] = num\n",
    "            else:\n",
    "                Y[i//2] = num\n",
    "        return X, Y\n",
    "    \n",
    "def mean_normalized(X): # returns z-score for each value\n",
    "    mux = np.mean(X, axis=1).reshape(-1,1)\n",
    "    sigmax = np.std(X, axis=1).reshape(-1,1)\n",
    "    return (X-mux)/sigmax\n",
    "\n",
    "def l2_normalized(X):\n",
    "    norms = np.linalg.norm(X, axis=1).reshape(-1,1)\n",
    "    return X/norms\n",
    "\n",
    "def pairwiseDistances(X):\n",
    "    m, n = tuple(X.shape)\n",
    "    n_dash = n*(n-1)//2\n",
    "    R = np.empty((m,n_dash))\n",
    "    index = 0\n",
    "    for i in range(n):\n",
    "        for j in range(i+1, n): # pair ij\n",
    "            R[:, [index]] = X[:, [i]] - X[:,[j]]\n",
    "            index += 1\n",
    "    return R\n",
    "                 \n",
    "def allLandmarks(lmpathlist): # returns shift invariant landmarks\n",
    "    X, Y = np.empty((m, 68)), np.empty((m, 68))\n",
    "    for i, lmpath in enumerate(lmpathlist):\n",
    "        X[i], Y[i] = landmarksFromFile(lmpath)\n",
    "        \n",
    "    # get pair-wise distances\n",
    "    return pairwiseDistances(X), pairwiseDistances(Y)"
   ]
  },
  {
   "cell_type": "code",
   "execution_count": 5,
   "metadata": {},
   "outputs": [
    {
     "name": "stdout",
     "output_type": "stream",
     "text": [
      "(326, 4556)\n"
     ]
    }
   ],
   "source": [
    "# get pairwise distances from neutral\n",
    "NX, NY = allLandmarks(train_df.lm_neutral)\n",
    "PX, PY = allLandmarks(train_df.lm_peak)\n",
    "\n",
    "# normalize the difference separately\n",
    "DX, DY = PX-NX, PY-NY\n",
    "F = np.hstack((DX,DY))\n",
    "F = l2_normalized(F)\n",
    "print(F.shape)"
   ]
  },
  {
   "cell_type": "code",
   "execution_count": 6,
   "metadata": {},
   "outputs": [],
   "source": [
    "m,n = tuple(F.shape)\n",
    "# shuffle rows\n",
    "r = np.random.permutation(m)\n",
    "F = F[r]\n",
    "# shuffle columns\n",
    "r = np.random.permutation(n)\n",
    "F = F[:, r]\n",
    "# save the features in a file\n",
    "np.save('features', F)"
   ]
  },
  {
   "cell_type": "code",
   "execution_count": null,
   "metadata": {},
   "outputs": [],
   "source": []
  }
 ],
 "metadata": {
  "kernelspec": {
   "display_name": "Python 3",
   "language": "python",
   "name": "python3"
  },
  "language_info": {
   "codemirror_mode": {
    "name": "ipython",
    "version": 3
   },
   "file_extension": ".py",
   "mimetype": "text/x-python",
   "name": "python",
   "nbconvert_exporter": "python",
   "pygments_lexer": "ipython3",
   "version": "3.7.3"
  }
 },
 "nbformat": 4,
 "nbformat_minor": 2
}
