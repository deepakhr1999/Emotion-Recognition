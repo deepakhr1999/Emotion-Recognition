{
 "cells": [
  {
   "cell_type": "code",
   "execution_count": 1,
   "metadata": {},
   "outputs": [],
   "source": [
    "import os\n",
    "import numpy as np\n",
    "from PIL import Image\n",
    "import matplotlib.pyplot as plt\n",
    "from os.path import join\n",
    "import pandas as pd\n",
    "import cv2\n",
    "import random"
   ]
  },
  {
   "cell_type": "code",
   "execution_count": 2,
   "metadata": {},
   "outputs": [
    {
     "data": {
      "text/html": [
       "<div>\n",
       "<style scoped>\n",
       "    .dataframe tbody tr th:only-of-type {\n",
       "        vertical-align: middle;\n",
       "    }\n",
       "\n",
       "    .dataframe tbody tr th {\n",
       "        vertical-align: top;\n",
       "    }\n",
       "\n",
       "    .dataframe thead th {\n",
       "        text-align: right;\n",
       "    }\n",
       "</style>\n",
       "<table border=\"1\" class=\"dataframe\">\n",
       "  <thead>\n",
       "    <tr style=\"text-align: right;\">\n",
       "      <th></th>\n",
       "      <th>neutral</th>\n",
       "      <th>peak</th>\n",
       "      <th>label</th>\n",
       "      <th>lm_neutral</th>\n",
       "      <th>lm_peak</th>\n",
       "    </tr>\n",
       "  </thead>\n",
       "  <tbody>\n",
       "    <tr>\n",
       "      <th>0</th>\n",
       "      <td>../CK+/cohn-kanade-images/S063/002/S063_002_00...</td>\n",
       "      <td>../CK+/cohn-kanade-images/S063/002/S063_002_00...</td>\n",
       "      <td>../CK+/Emotion/S063/002/S063_002_00000023_emot...</td>\n",
       "      <td>../CK+/Landmarks/S063/002/S063_002_00000001_la...</td>\n",
       "      <td>../CK+/Landmarks/S063/002/S063_002_00000023_la...</td>\n",
       "    </tr>\n",
       "    <tr>\n",
       "      <th>1</th>\n",
       "      <td>../CK+/cohn-kanade-images/S063/001/S063_001_00...</td>\n",
       "      <td>../CK+/cohn-kanade-images/S063/001/S063_001_00...</td>\n",
       "      <td>../CK+/Emotion/S063/001/S063_001_00000013_emot...</td>\n",
       "      <td>../CK+/Landmarks/S063/001/S063_001_00000001_la...</td>\n",
       "      <td>../CK+/Landmarks/S063/001/S063_001_00000013_la...</td>\n",
       "    </tr>\n",
       "    <tr>\n",
       "      <th>2</th>\n",
       "      <td>../CK+/cohn-kanade-images/S071/004/S071_004_00...</td>\n",
       "      <td>../CK+/cohn-kanade-images/S071/004/S071_004_00...</td>\n",
       "      <td>../CK+/Emotion/S071/004/S071_004_00000028_emot...</td>\n",
       "      <td>../CK+/Landmarks/S071/004/S071_004_00000001_la...</td>\n",
       "      <td>../CK+/Landmarks/S071/004/S071_004_00000028_la...</td>\n",
       "    </tr>\n",
       "    <tr>\n",
       "      <th>3</th>\n",
       "      <td>../CK+/cohn-kanade-images/S071/002/S071_002_00...</td>\n",
       "      <td>../CK+/cohn-kanade-images/S071/002/S071_002_00...</td>\n",
       "      <td>../CK+/Emotion/S071/002/S071_002_00000020_emot...</td>\n",
       "      <td>../CK+/Landmarks/S071/002/S071_002_00000001_la...</td>\n",
       "      <td>../CK+/Landmarks/S071/002/S071_002_00000020_la...</td>\n",
       "    </tr>\n",
       "    <tr>\n",
       "      <th>4</th>\n",
       "      <td>../CK+/cohn-kanade-images/S071/006/S071_006_00...</td>\n",
       "      <td>../CK+/cohn-kanade-images/S071/006/S071_006_00...</td>\n",
       "      <td>../CK+/Emotion/S071/006/S071_006_00000014_emot...</td>\n",
       "      <td>../CK+/Landmarks/S071/006/S071_006_00000001_la...</td>\n",
       "      <td>../CK+/Landmarks/S071/006/S071_006_00000014_la...</td>\n",
       "    </tr>\n",
       "  </tbody>\n",
       "</table>\n",
       "</div>"
      ],
      "text/plain": [
       "                                             neutral  \\\n",
       "0  ../CK+/cohn-kanade-images/S063/002/S063_002_00...   \n",
       "1  ../CK+/cohn-kanade-images/S063/001/S063_001_00...   \n",
       "2  ../CK+/cohn-kanade-images/S071/004/S071_004_00...   \n",
       "3  ../CK+/cohn-kanade-images/S071/002/S071_002_00...   \n",
       "4  ../CK+/cohn-kanade-images/S071/006/S071_006_00...   \n",
       "\n",
       "                                                peak  \\\n",
       "0  ../CK+/cohn-kanade-images/S063/002/S063_002_00...   \n",
       "1  ../CK+/cohn-kanade-images/S063/001/S063_001_00...   \n",
       "2  ../CK+/cohn-kanade-images/S071/004/S071_004_00...   \n",
       "3  ../CK+/cohn-kanade-images/S071/002/S071_002_00...   \n",
       "4  ../CK+/cohn-kanade-images/S071/006/S071_006_00...   \n",
       "\n",
       "                                               label  \\\n",
       "0  ../CK+/Emotion/S063/002/S063_002_00000023_emot...   \n",
       "1  ../CK+/Emotion/S063/001/S063_001_00000013_emot...   \n",
       "2  ../CK+/Emotion/S071/004/S071_004_00000028_emot...   \n",
       "3  ../CK+/Emotion/S071/002/S071_002_00000020_emot...   \n",
       "4  ../CK+/Emotion/S071/006/S071_006_00000014_emot...   \n",
       "\n",
       "                                          lm_neutral  \\\n",
       "0  ../CK+/Landmarks/S063/002/S063_002_00000001_la...   \n",
       "1  ../CK+/Landmarks/S063/001/S063_001_00000001_la...   \n",
       "2  ../CK+/Landmarks/S071/004/S071_004_00000001_la...   \n",
       "3  ../CK+/Landmarks/S071/002/S071_002_00000001_la...   \n",
       "4  ../CK+/Landmarks/S071/006/S071_006_00000001_la...   \n",
       "\n",
       "                                             lm_peak  \n",
       "0  ../CK+/Landmarks/S063/002/S063_002_00000023_la...  \n",
       "1  ../CK+/Landmarks/S063/001/S063_001_00000013_la...  \n",
       "2  ../CK+/Landmarks/S071/004/S071_004_00000028_la...  \n",
       "3  ../CK+/Landmarks/S071/002/S071_002_00000020_la...  \n",
       "4  ../CK+/Landmarks/S071/006/S071_006_00000014_la...  "
      ]
     },
     "execution_count": 2,
     "metadata": {},
     "output_type": "execute_result"
    }
   ],
   "source": [
    "train_df = pd.read_csv('CKpaths.csv')\n",
    "m = len(train_df)\n",
    "train_df.head()"
   ]
  },
  {
   "cell_type": "code",
   "execution_count": 3,
   "metadata": {},
   "outputs": [],
   "source": [
    "def labelFromFile(labelpath):\n",
    "    with open(labelpath, 'r') as file:\n",
    "        return (int(float(file.read().rstrip().split()[0])))\n",
    "train_df.label = list(map(labelFromFile, train_df.label))"
   ]
  },
  {
   "cell_type": "code",
   "execution_count": 19,
   "metadata": {},
   "outputs": [],
   "source": [
    "def landmarksFromFile(lmpath):\n",
    "    with open(lmpath, 'r') as file:\n",
    "        # read and store landmarks\n",
    "        L = file.read().split()\n",
    "        L = list(map(float, L))\n",
    "        \n",
    "        # separate X and Y\n",
    "        X, Y = np.empty(68), np.empty(68)\n",
    "        for i, num in enumerate(L):\n",
    "            if i%2==0:\n",
    "                X[i//2] = num\n",
    "            else:\n",
    "                Y[i//2] = num\n",
    "        return X, Y\n",
    "    \n",
    "def normalized(X): # returns z-score for each value\n",
    "    mux = np.mean(X, axis=1).reshape(-1,1)\n",
    "    sigmax = np.std(X, axis=1).reshape(-1,1)\n",
    "    return (X-mux)/sigmax\n",
    "\n",
    "def pairwiseDistances(X):\n",
    "    m, n = tuple(X.shape)\n",
    "    n_dash = n*(n+1)//2\n",
    "    R = np.empty((m,n_dash)\n",
    "    index = 0\n",
    "    for i in range(n):\n",
    "        for j in range(i+1, n): # pair ij\n",
    "            R[:, [index]] = X[:, [i]] - X[:,[j]]\n",
    "            index += 1\n",
    "    return R\n",
    "                 \n",
    "def allLandmarks(lmpathlist): # returns shift invariant landmarks\n",
    "    X, Y = np.empty((m, 68)), np.empty((m, 68))\n",
    "    for lmpath in lmpathlist:\n",
    "        X[i], Y[i] = landmarksFromFile(lmpath)\n",
    "        \n",
    "    # get pair-wise distances\n",
    "    n = 68*67//2\n",
    "    SX, SY = np.empty((m, n)), np.empty((m, n))\n",
    "    "
   ]
  },
  {
   "cell_type": "code",
   "execution_count": 20,
   "metadata": {},
   "outputs": [],
   "source": [
    "mux = np.mean(X, axis=1).reshape(-1,1)\n",
    "sigmax = np.std(X, axis=1).reshape(-1,1)\n",
    "X = (X-mux)/sigmax\n",
    "\n",
    "muy = np.mean(Y, axis=1).reshape(-1,1)\n",
    "sigmay = np.std(Y, axis=1).reshape(-1,1)\n",
    "Y = (Y-muy)/sigmay"
   ]
  },
  {
   "cell_type": "code",
   "execution_count": 21,
   "metadata": {},
   "outputs": [
    {
     "data": {
      "text/plain": [
       "(6.0799835433730605e-18, -2.820631574652148e-17)"
      ]
     },
     "execution_count": 21,
     "metadata": {},
     "output_type": "execute_result"
    }
   ],
   "source": [
    "np.mean(X), np.mean(Y)"
   ]
  },
  {
   "cell_type": "code",
   "execution_count": null,
   "metadata": {},
   "outputs": [],
   "source": []
  }
 ],
 "metadata": {
  "kernelspec": {
   "display_name": "Python 3",
   "language": "python",
   "name": "python3"
  },
  "language_info": {
   "codemirror_mode": {
    "name": "ipython",
    "version": 3
   },
   "file_extension": ".py",
   "mimetype": "text/x-python",
   "name": "python",
   "nbconvert_exporter": "python",
   "pygments_lexer": "ipython3",
   "version": "3.7.3"
  }
 },
 "nbformat": 4,
 "nbformat_minor": 2
}
