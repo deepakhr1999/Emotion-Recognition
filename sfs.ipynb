{
 "cells": [
  {
   "cell_type": "code",
   "execution_count": 1,
   "metadata": {},
   "outputs": [],
   "source": [
    "import numpy as np\n",
    "from sklearn.svm import SVC\n",
    "from sklearn.model_selection import *\n",
    "from tqdm import tqdm_notebook as tqdm"
   ]
  },
  {
   "cell_type": "code",
   "execution_count": 2,
   "metadata": {},
   "outputs": [
    {
     "name": "stdout",
     "output_type": "stream",
     "text": [
      "X shape: (326, 4556)\n",
      "y shape: (326,)\n"
     ]
    }
   ],
   "source": [
    "X = np.load('features.npy')\n",
    "y = np.load('targets.npy')\n",
    "print('X shape:', X.shape)\n",
    "print('y shape:', y.shape)\n",
    "\n",
    "def l2_normalized(X):\n",
    "    norms = np.linalg.norm(X, axis=1).reshape(-1,1)\n",
    "    return X/norms"
   ]
  },
  {
   "cell_type": "code",
   "execution_count": 16,
   "metadata": {},
   "outputs": [],
   "source": [
    "def performance(X, y):\n",
    "    X = l2_normalized(X)\n",
    "    model = SVC(C=5, kernel='rbf', gamma='scale')\n",
    "    model.fit(X, y)\n",
    "    return model.score(X, y)\n",
    "\n",
    "def cvPerf(X,y):\n",
    "    X = l2_normalized(X)\n",
    "    model = SVC(C=5, kernel='rbf', gamma='scale')\n",
    "    N_SPLITS = 2\n",
    "    shuffler = StratifiedShuffleSplit(test_size=0.4, n_splits=N_SPLITS)\n",
    "    acc = np.empty(N_SPLITS)\n",
    "    for i, (train_index, test_index) in enumerate(shuffler.split(X, y)):\n",
    "        X_train, y_train = X[train_index], y[train_index]\n",
    "        X_test, y_test = X[test_index], y[test_index]\n",
    "        model.fit(X_train, y_train)\n",
    "        acc[i] = model.score(X_test, y_test)\n",
    "    return acc.max()"
   ]
  },
  {
   "cell_type": "code",
   "execution_count": 12,
   "metadata": {},
   "outputs": [
    {
     "data": {
      "application/vnd.jupyter.widget-view+json": {
       "model_id": "eecc2297b0ec403f8d48b33b13dbec88",
       "version_major": 2,
       "version_minor": 0
      },
      "text/plain": [
       "HBox(children=(IntProgress(value=0, max=326), HTML(value='')))"
      ]
     },
     "metadata": {},
     "output_type": "display_data"
    },
    {
     "name": "stdout",
     "output_type": "stream",
     "text": [
      "\n",
      "Accuracy: [47] to 0.29141104294478526\n"
     ]
    },
    {
     "data": {
      "application/vnd.jupyter.widget-view+json": {
       "model_id": "0685e2f0a9b6474698e92614d238f99b",
       "version_major": 2,
       "version_minor": 0
      },
      "text/plain": [
       "HBox(children=(IntProgress(value=0, max=326), HTML(value='')))"
      ]
     },
     "metadata": {},
     "output_type": "display_data"
    },
    {
     "name": "stdout",
     "output_type": "stream",
     "text": [
      "\n",
      "Accuracy: [47, 225] to 0.3282208588957055\n"
     ]
    },
    {
     "data": {
      "application/vnd.jupyter.widget-view+json": {
       "model_id": "442a6ded649d4fc48d4b29488f18155d",
       "version_major": 2,
       "version_minor": 0
      },
      "text/plain": [
       "HBox(children=(IntProgress(value=0, max=326), HTML(value='')))"
      ]
     },
     "metadata": {},
     "output_type": "display_data"
    },
    {
     "name": "stdout",
     "output_type": "stream",
     "text": [
      "\n",
      "Accuracy: [47, 225, 272] to 0.38650306748466257\n"
     ]
    },
    {
     "data": {
      "application/vnd.jupyter.widget-view+json": {
       "model_id": "1c44bda811404b0c80ec4eb18d3a9438",
       "version_major": 2,
       "version_minor": 0
      },
      "text/plain": [
       "HBox(children=(IntProgress(value=0, max=326), HTML(value='')))"
      ]
     },
     "metadata": {},
     "output_type": "display_data"
    },
    {
     "name": "stdout",
     "output_type": "stream",
     "text": [
      "\n",
      "Accuracy: [47, 225, 272, 197] to 0.4447852760736196\n"
     ]
    },
    {
     "data": {
      "application/vnd.jupyter.widget-view+json": {
       "model_id": "c0300dba1187484cbc535f1b6f7e61ef",
       "version_major": 2,
       "version_minor": 0
      },
      "text/plain": [
       "HBox(children=(IntProgress(value=0, max=326), HTML(value='')))"
      ]
     },
     "metadata": {},
     "output_type": "display_data"
    },
    {
     "name": "stdout",
     "output_type": "stream",
     "text": [
      "\n",
      "Accuracy: [47, 225, 272, 197, 302] to 0.5306748466257669\n"
     ]
    },
    {
     "data": {
      "application/vnd.jupyter.widget-view+json": {
       "model_id": "41585eb1cd5445d29dc0d20ceed239b3",
       "version_major": 2,
       "version_minor": 0
      },
      "text/plain": [
       "HBox(children=(IntProgress(value=0, max=326), HTML(value='')))"
      ]
     },
     "metadata": {},
     "output_type": "display_data"
    },
    {
     "name": "stdout",
     "output_type": "stream",
     "text": [
      "\n",
      "Accuracy: [47, 225, 272, 197, 302, 138] to 0.588957055214724\n"
     ]
    },
    {
     "data": {
      "application/vnd.jupyter.widget-view+json": {
       "model_id": "610a8d5d5f6a429f91af29f4a8b9e9ca",
       "version_major": 2,
       "version_minor": 0
      },
      "text/plain": [
       "HBox(children=(IntProgress(value=0, max=326), HTML(value='')))"
      ]
     },
     "metadata": {},
     "output_type": "display_data"
    },
    {
     "name": "stdout",
     "output_type": "stream",
     "text": [
      "\n",
      "Accuracy: [47, 225, 272, 197, 302, 138, 29] to 0.6441717791411042\n"
     ]
    },
    {
     "data": {
      "application/vnd.jupyter.widget-view+json": {
       "model_id": "86a6b2f989a04e4389720766b7aefb72",
       "version_major": 2,
       "version_minor": 0
      },
      "text/plain": [
       "HBox(children=(IntProgress(value=0, max=326), HTML(value='')))"
      ]
     },
     "metadata": {},
     "output_type": "display_data"
    },
    {
     "name": "stdout",
     "output_type": "stream",
     "text": [
      "\n",
      "Accuracy: [47, 225, 272, 197, 302, 138, 29, 264] to 0.6901840490797546\n"
     ]
    },
    {
     "data": {
      "application/vnd.jupyter.widget-view+json": {
       "model_id": "6779c8186d1849ec8d8b0497971d62c2",
       "version_major": 2,
       "version_minor": 0
      },
      "text/plain": [
       "HBox(children=(IntProgress(value=0, max=326), HTML(value='')))"
      ]
     },
     "metadata": {},
     "output_type": "display_data"
    },
    {
     "name": "stdout",
     "output_type": "stream",
     "text": [
      "\n",
      "Accuracy: [47, 225, 272, 197, 302, 138, 29, 264, 56] to 0.7269938650306749\n"
     ]
    },
    {
     "data": {
      "application/vnd.jupyter.widget-view+json": {
       "model_id": "e51b620ac0bf4889a9fba985f3487fc7",
       "version_major": 2,
       "version_minor": 0
      },
      "text/plain": [
       "HBox(children=(IntProgress(value=0, max=326), HTML(value='')))"
      ]
     },
     "metadata": {},
     "output_type": "display_data"
    },
    {
     "name": "stdout",
     "output_type": "stream",
     "text": [
      "\n",
      "Accuracy: [47, 225, 272, 197, 302, 138, 29, 264, 56, 260] to 0.7760736196319018\n"
     ]
    },
    {
     "data": {
      "application/vnd.jupyter.widget-view+json": {
       "model_id": "a836d334c80c47e890068188b5207a2e",
       "version_major": 2,
       "version_minor": 0
      },
      "text/plain": [
       "HBox(children=(IntProgress(value=0, max=326), HTML(value='')))"
      ]
     },
     "metadata": {},
     "output_type": "display_data"
    },
    {
     "name": "stdout",
     "output_type": "stream",
     "text": [
      "\n",
      "Accuracy: [47, 225, 272, 197, 302, 138, 29, 264, 56, 260, 42] to 0.8067484662576687\n"
     ]
    },
    {
     "data": {
      "application/vnd.jupyter.widget-view+json": {
       "model_id": "254973ef4f1c471ca8e196bc9ccf3a57",
       "version_major": 2,
       "version_minor": 0
      },
      "text/plain": [
       "HBox(children=(IntProgress(value=0, max=326), HTML(value='')))"
      ]
     },
     "metadata": {},
     "output_type": "display_data"
    },
    {
     "name": "stdout",
     "output_type": "stream",
     "text": [
      "\n",
      "Accuracy: [47, 225, 272, 197, 302, 138, 29, 264, 56, 260, 42, 36] to 0.8312883435582822\n"
     ]
    },
    {
     "data": {
      "application/vnd.jupyter.widget-view+json": {
       "model_id": "36eed3a108e14e35b446817ba855ab76",
       "version_major": 2,
       "version_minor": 0
      },
      "text/plain": [
       "HBox(children=(IntProgress(value=0, max=326), HTML(value='')))"
      ]
     },
     "metadata": {},
     "output_type": "display_data"
    },
    {
     "name": "stdout",
     "output_type": "stream",
     "text": [
      "\n",
      "Accuracy: [47, 225, 272, 197, 302, 138, 29, 264, 56, 260, 42, 36, 77] to 0.8496932515337423\n"
     ]
    },
    {
     "data": {
      "application/vnd.jupyter.widget-view+json": {
       "model_id": "6522e206ce37402d90bf63631a2e49ba",
       "version_major": 2,
       "version_minor": 0
      },
      "text/plain": [
       "HBox(children=(IntProgress(value=0, max=326), HTML(value='')))"
      ]
     },
     "metadata": {},
     "output_type": "display_data"
    },
    {
     "name": "stdout",
     "output_type": "stream",
     "text": [
      "\n",
      "Accuracy: [47, 225, 272, 197, 302, 138, 29, 264, 56, 260, 42, 36, 77, 32] to 0.8742331288343558\n"
     ]
    },
    {
     "data": {
      "application/vnd.jupyter.widget-view+json": {
       "model_id": "1031d62c330a4da3859b140907940474",
       "version_major": 2,
       "version_minor": 0
      },
      "text/plain": [
       "HBox(children=(IntProgress(value=0, max=326), HTML(value='')))"
      ]
     },
     "metadata": {},
     "output_type": "display_data"
    },
    {
     "name": "stdout",
     "output_type": "stream",
     "text": [
      "\n",
      "Accuracy: [47, 225, 272, 197, 302, 138, 29, 264, 56, 260, 42, 36, 77, 32, 103] to 0.8834355828220859\n"
     ]
    },
    {
     "data": {
      "application/vnd.jupyter.widget-view+json": {
       "model_id": "7cde5e5316a449b7a87db54f43a853aa",
       "version_major": 2,
       "version_minor": 0
      },
      "text/plain": [
       "HBox(children=(IntProgress(value=0, max=326), HTML(value='')))"
      ]
     },
     "metadata": {},
     "output_type": "display_data"
    },
    {
     "name": "stdout",
     "output_type": "stream",
     "text": [
      "\n",
      "Finished with benchmark of 0.8834355828220859 optim accuracy: 0.8834355828220859\n"
     ]
    }
   ],
   "source": [
    "# perform a greedy search on features\n",
    "finalized_features = []\n",
    "n = X.shape[0]\n",
    "benchmark = 0\n",
    "while True:\n",
    "    # iterate over features that are not finalized\n",
    "    acc = []\n",
    "    for index in tqdm(range(n)):\n",
    "        if index not in finalized_features:\n",
    "            # get the accuracy of adding index as a feature\n",
    "            features = finalized_features + [index]\n",
    "            acc.append( (index, performance(X[:, features], y)) )\n",
    "    # we have index vs acc, for every index not in finalized features\n",
    "    optimal_index, optimal_acc = max(acc, key=lambda x: x[1])\n",
    "    if optimal_acc > benchmark:\n",
    "        benchmark = optimal_acc\n",
    "        finalized_features.append(optimal_index)\n",
    "        print(f\"Accuracy: {finalized_features} to {optimal_acc}\")\n",
    "    else:\n",
    "        print(\"Finished with benchmark of\", benchmark, f\"optim accuracy: {optimal_acc}\")\n",
    "        break        "
   ]
  },
  {
   "cell_type": "code",
   "execution_count": 17,
   "metadata": {},
   "outputs": [
    {
     "name": "stdout",
     "output_type": "stream",
     "text": [
      "[47, 225, 272, 197, 302, 138, 29, 264, 56, 260, 42, 36, 77, 32, 103] 0.21374045801526717\n"
     ]
    }
   ],
   "source": [
    "print(finalized_features, cvPerf(X[:,finalized_features], y))"
   ]
  },
  {
   "cell_type": "code",
   "execution_count": 6,
   "metadata": {},
   "outputs": [
    {
     "name": "stdout",
     "output_type": "stream",
     "text": [
      "0.8834355828220859\n"
     ]
    }
   ],
   "source": [
    "# [47, 225, 272, 197, 302, 138, 29, 264, 56, 260, 42, 36, 77, 32, 103] 0.8834355828220859"
   ]
  },
  {
   "cell_type": "code",
   "execution_count": null,
   "metadata": {},
   "outputs": [],
   "source": []
  }
 ],
 "metadata": {
  "kernelspec": {
   "display_name": "Python 3",
   "language": "python",
   "name": "python3"
  },
  "language_info": {
   "codemirror_mode": {
    "name": "ipython",
    "version": 3
   },
   "file_extension": ".py",
   "mimetype": "text/x-python",
   "name": "python",
   "nbconvert_exporter": "python",
   "pygments_lexer": "ipython3",
   "version": "3.7.3"
  }
 },
 "nbformat": 4,
 "nbformat_minor": 2
}
